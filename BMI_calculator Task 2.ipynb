{
  "nbformat": 4,
  "nbformat_minor": 0,
  "metadata": {
    "colab": {
      "provenance": []
    },
    "kernelspec": {
      "name": "python3",
      "display_name": "Python 3"
    },
    "language_info": {
      "name": "python"
    }
  },
  "cells": [
    {
      "cell_type": "markdown",
      "source": [
        "**OASIS INFOSYTE INTERNSHIP **\n",
        "\n",
        "---\n",
        "\n",
        "\n",
        "**Name** - Aditya singh Tomar\n",
        "\n",
        "---\n",
        "\n",
        "\n",
        "**Task 2** - BMI CALCULATOR\n",
        "\n"
      ],
      "metadata": {
        "id": "R38fIQrpBPNO"
      }
    },
    {
      "cell_type": "code",
      "source": [
        "def calculate_bmi(weight, height):\n",
        "\n",
        "  return weight / (height * height)\n",
        "\n",
        "def interpret_bmi(bmi):\n",
        "  if bmi < 18.5:\n",
        "    return \"Underweight\"\n",
        "  elif bmi <= 24.9:\n",
        "    return \"Normal weight\"\n",
        "  elif bmi <= 29.9:\n",
        "    return \"Overweight\"\n",
        "  else:\n",
        "    return \"Obese\"\n",
        "\n",
        "weight = float(input(\"Enter your weight in kilograms (kg): \"))\n",
        "height = float(input(\"Enter your height in meters (m): \"))\n",
        "\n",
        "bmi = calculate_bmi(weight, height)\n",
        "\n",
        "\n",
        "bmi_interpretation = interpret_bmi(bmi)\n",
        "\n",
        "\n",
        "print(f\"Your BMI is: {bmi:.2f}\")\n",
        "print(f\"BMI Interpretation: {bmi_interpretation}\")\n"
      ],
      "metadata": {
        "colab": {
          "base_uri": "https://localhost:8080/"
        },
        "id": "1-kLTacG_4QE",
        "outputId": "32ad8c39-3539-46b8-aa10-3de57f3195f5"
      },
      "execution_count": 1,
      "outputs": [
        {
          "output_type": "stream",
          "name": "stdout",
          "text": [
            "Enter your weight in kilograms (kg): 45\n",
            "Enter your height in meters (m): 65\n",
            "Your BMI is: 0.01\n",
            "BMI Interpretation: Underweight\n"
          ]
        }
      ]
    },
    {
      "cell_type": "code",
      "source": [],
      "metadata": {
        "id": "HQvOpFwkAY50"
      },
      "execution_count": null,
      "outputs": []
    }
  ]
}