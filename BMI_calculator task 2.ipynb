{
  "nbformat": 4,
  "nbformat_minor": 0,
  "metadata": {
    "colab": {
      "provenance": []
    },
    "kernelspec": {
      "name": "python3",
      "display_name": "Python 3"
    },
    "language_info": {
      "name": "python"
    }
  },
  "cells": [
    {
      "cell_type": "markdown",
      "source": [
        "**OASIS INFOSYTE INTERNSHIP**\n",
        "\n",
        "---\n",
        "\n",
        "\n",
        "**Name** - Aditya singh Tomar\n",
        "\n",
        "---\n",
        "\n",
        "\n",
        "**Task** - BMI CALCULATOR\n",
        "\n"
      ],
      "metadata": {
        "id": "R38fIQrpBPNO"
      }
    },
    {
      "cell_type": "code",
      "source": [
        "def calculate_BMI(weight, height):\n",
        "    bmi = weight / (height ** 2)\n",
        "    return bmi\n",
        "def interpret_BMI(bmi):\n",
        "    if bmi < 18.5:\n",
        "        return \"Underweight\"\n",
        "    elif bmi < 24.9:\n",
        "        return \"Normal\"\n",
        "    elif bmi < 29.9:\n",
        "        return \"Overweight\"\n",
        "    else:\n",
        "        return \"Obese\"\n",
        "weight = float(input(\"Enter your weight in kg: \"))\n",
        "height = float(input(\"Enter your height in meters: \"))\n",
        "bmi = calculate_BMI(weight, height)\n",
        "print(\"Your BMI is:\", bmi)\n",
        "interpretation = interpret_BMI(bmi)\n",
        "print(\"Interpretation:\", interpretation)"
      ],
      "metadata": {
        "colab": {
          "base_uri": "https://localhost:8080/"
        },
        "id": "Ce7Dd_xd035C",
        "outputId": "68bb7145-9c6c-44ae-c42c-8fdd2fd42ed6"
      },
      "execution_count": 17,
      "outputs": [
        {
          "output_type": "stream",
          "name": "stdout",
          "text": [
            "Enter your weight in kg: 45\n",
            "Enter your height in meters: 65\n",
            "Your BMI is: 0.010650887573964497\n",
            "Interpretation: Underweight\n"
          ]
        }
      ]
    },
    {
      "cell_type": "code",
      "source": [],
      "metadata": {
        "id": "PUdsBpAB1M5S"
      },
      "execution_count": null,
      "outputs": []
    }
  ]
}